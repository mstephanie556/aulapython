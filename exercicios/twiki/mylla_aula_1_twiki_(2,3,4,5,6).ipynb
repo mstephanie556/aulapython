{
  "nbformat": 4,
  "nbformat_minor": 0,
  "metadata": {
    "colab": {
      "name": "Untitled1.ipynb",
      "provenance": [],
      "authorship_tag": "ABX9TyPZ0oK2jZGsCc4VUl7ksqGo",
      "include_colab_link": true
    },
    "kernelspec": {
      "name": "python3",
      "display_name": "Python 3"
    }
  },
  "cells": [
    {
      "cell_type": "markdown",
      "metadata": {
        "id": "view-in-github",
        "colab_type": "text"
      },
      "source": [
        "<a href=\"https://colab.research.google.com/github/mstephanie556/aulapython/blob/master/exercicios/twiki/mylla_aula_1_twiki_(2%2C3%2C4%2C5%2C6).ipynb\" target=\"_parent\"><img src=\"https://colab.research.google.com/assets/colab-badge.svg\" alt=\"Open In Colab\"/></a>"
      ]
    },
    {
      "cell_type": "code",
      "metadata": {
        "id": "xI7d331lG88O",
        "colab_type": "code",
        "colab": {
          "base_uri": "https://localhost:8080/",
          "height": 34
        },
        "outputId": "a2e4bfa4-986b-4f0c-b85c-7e3149627a8a"
      },
      "source": [
        "t=3 #seg\n",
        "v_s=343 #m/s\n",
        "\n",
        "S=(v_s)*(t)\n",
        "print('Distância',S,'m')"
      ],
      "execution_count": 1,
      "outputs": [
        {
          "output_type": "stream",
          "text": [
            "Distância 1029 m\n"
          ],
          "name": "stdout"
        }
      ]
    },
    {
      "cell_type": "code",
      "metadata": {
        "id": "Dls8vwLpH60J",
        "colab_type": "code",
        "colab": {
          "base_uri": "https://localhost:8080/",
          "height": 51
        },
        "outputId": "76690a08-5883-4f14-e4e2-9ab92491e208"
      },
      "source": [
        "import math\n",
        "a=3\n",
        "b=-4\n",
        "c=-10\n",
        "x=((b)**2-(4)*(a)*(c))\n",
        "\n",
        "D= math.sqrt(x)\n",
        "\n",
        "y_1=(-(b)+ D )/(2*(a))\n",
        "print('y1:',round(y_1,4))\n",
        "\n",
        "y_2=(-(b)- D )/(2*(a))\n",
        "print('y2:',round(y_2,4))"
      ],
      "execution_count": 13,
      "outputs": [
        {
          "output_type": "stream",
          "text": [
            "y1: 2.6103\n",
            "y2: -1.277\n"
          ],
          "name": "stdout"
        }
      ]
    },
    {
      "cell_type": "code",
      "metadata": {
        "id": "epKcvh9LLErz",
        "colab_type": "code",
        "colab": {
          "base_uri": "https://localhost:8080/",
          "height": 34
        },
        "outputId": "806ad22b-4c78-4265-b193-34ea8cd3a198"
      },
      "source": [
        "import math\n",
        "A=5 #m\n",
        "D=0.5 #m\n",
        "\n",
        "x= math.atan(A/D) #ângulo\n",
        "\n",
        "print('x=',math.degrees(x))\n"
      ],
      "execution_count": 16,
      "outputs": [
        {
          "output_type": "stream",
          "text": [
            "x= 84.28940686250037\n"
          ],
          "name": "stdout"
        }
      ]
    },
    {
      "cell_type": "code",
      "metadata": {
        "id": "nVeJ9s38PoWp",
        "colab_type": "code",
        "colab": {
          "base_uri": "https://localhost:8080/",
          "height": 34
        },
        "outputId": "9153e084-0500-4ba6-fb68-245cbfd86e9d"
      },
      "source": [
        "A=0.7 #m\n",
        "M=11  #Kg\n",
        "\n",
        "IMC=(M)/(A**2) #IMC do bebê\n",
        "\n",
        "print('IMC:',round(IMC,4),'Kg/m²') "
      ],
      "execution_count": 25,
      "outputs": [
        {
          "output_type": "stream",
          "text": [
            "IMC: 22.449 Kg/m²\n"
          ],
          "name": "stdout"
        }
      ]
    },
    {
      "cell_type": "code",
      "metadata": {
        "id": "Jt5NImkSRPLv",
        "colab_type": "code",
        "colab": {
          "base_uri": "https://localhost:8080/",
          "height": 51
        },
        "outputId": "4d0dda70-cfc4-415d-bb05-3ee8b9ec3750"
      },
      "source": [
        "import math\n",
        "A=3 #m\n",
        "g=9.8 #m/s²\n",
        "\n",
        "V_f= math.sqrt((2)*(g)*(A))\n",
        "\n",
        "print('Vf:',round(V_f,4),'m/s')\n",
        "\n",
        "T_q= math.sqrt((2*A)/(g))\n",
        "print('Tq:',round(T_q,4),'seg')"
      ],
      "execution_count": 27,
      "outputs": [
        {
          "output_type": "stream",
          "text": [
            "Vf: 7.6681 m/s\n",
            "Tq: 0.7825 seg\n"
          ],
          "name": "stdout"
        }
      ]
    }
  ]
}