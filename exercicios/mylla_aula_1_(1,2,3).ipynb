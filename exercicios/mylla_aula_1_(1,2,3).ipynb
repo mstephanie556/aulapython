{
  "nbformat": 4,
  "nbformat_minor": 0,
  "metadata": {
    "colab": {
      "name": "Untitled0.ipynb",
      "provenance": [],
      "authorship_tag": "ABX9TyNLxQddGEzDwlf3XczbpmOM",
      "include_colab_link": true
    },
    "kernelspec": {
      "name": "python3",
      "display_name": "Python 3"
    }
  },
  "cells": [
    {
      "cell_type": "markdown",
      "metadata": {
        "id": "view-in-github",
        "colab_type": "text"
      },
      "source": [
        "<a href=\"https://colab.research.google.com/github/mstephanie556/aulapython/blob/master/exercicios/mylla_aula_1_(1%2C2%2C3).ipynb\" target=\"_parent\"><img src=\"https://colab.research.google.com/assets/colab-badge.svg\" alt=\"Open In Colab\"/></a>"
      ]
    },
    {
      "cell_type": "code",
      "metadata": {
        "id": "ubnv0MA5_yWc",
        "colab_type": "code",
        "colab": {
          "base_uri": "https://localhost:8080/",
          "height": 34
        },
        "outputId": "d284143d-8cbf-4c59-9591-9662b4851aa1"
      },
      "source": [
        "print(\"mundo,mundo,vasto mundo.\")"
      ],
      "execution_count": 1,
      "outputs": [
        {
          "output_type": "stream",
          "text": [
            "mundo,mundo,vasto mundo.\n"
          ],
          "name": "stdout"
        }
      ]
    },
    {
      "cell_type": "code",
      "metadata": {
        "id": "b85sqC9OAP8x",
        "colab_type": "code",
        "colab": {
          "base_uri": "https://localhost:8080/",
          "height": 221
        },
        "outputId": "0b8cf7d8-c8b3-4edc-e47a-a57247a540ad"
      },
      "source": [
        "help(\"print\")"
      ],
      "execution_count": 2,
      "outputs": [
        {
          "output_type": "stream",
          "text": [
            "Help on built-in function print in module builtins:\n",
            "\n",
            "print(...)\n",
            "    print(value, ..., sep=' ', end='\\n', file=sys.stdout, flush=False)\n",
            "    \n",
            "    Prints the values to a stream, or to sys.stdout by default.\n",
            "    Optional keyword arguments:\n",
            "    file:  a file-like object (stream); defaults to the current sys.stdout.\n",
            "    sep:   string inserted between values, default a space.\n",
            "    end:   string appended after the last value, default a newline.\n",
            "    flush: whether to forcibly flush the stream.\n",
            "\n"
          ],
          "name": "stdout"
        }
      ]
    },
    {
      "cell_type": "code",
      "metadata": {
        "id": "pZg87Mg6AWpU",
        "colab_type": "code",
        "colab": {
          "base_uri": "https://localhost:8080/",
          "height": 51
        },
        "outputId": "b945a659-68ce-40b5-b671-4fef87a7a167"
      },
      "source": [
        "S=10 #Km  \n",
        "t=43.5 #min \n",
        "\n",
        "x=S/(1.61) #Deslocamento em Milhas\n",
        "\n",
        "Tm=x/t\n",
        "\n",
        "print('Tempo médio:',Tm,'min')\n",
        "\n",
        "t_1=(43.5)/(60) #Tempo em Hora\n",
        "\n",
        "v=x/(t_1)\n",
        "print('Velocidade:',v,'Milhas/hora')"
      ],
      "execution_count": 10,
      "outputs": [
        {
          "output_type": "stream",
          "text": [
            "Tempo médio: 0.14278574998215177 min\n",
            "Velocidade: 8.567144998929106 Milhas/hora\n"
          ],
          "name": "stdout"
        }
      ]
    }
  ]
}