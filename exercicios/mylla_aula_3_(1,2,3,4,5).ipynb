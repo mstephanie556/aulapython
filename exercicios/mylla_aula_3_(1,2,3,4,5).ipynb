{
  "nbformat": 4,
  "nbformat_minor": 0,
  "metadata": {
    "colab": {
      "name": "Untitled4.ipynb",
      "provenance": [],
      "authorship_tag": "ABX9TyPVTE38EyHAmDaKEzclGXQb",
      "include_colab_link": true
    },
    "kernelspec": {
      "name": "python3",
      "display_name": "Python 3"
    }
  },
  "cells": [
    {
      "cell_type": "markdown",
      "metadata": {
        "id": "view-in-github",
        "colab_type": "text"
      },
      "source": [
        "<a href=\"https://colab.research.google.com/github/mstephanie556/aulapython/blob/master/exercicios/mylla_aula_3_(1%2C2%2C3%2C4%2C5).ipynb\" target=\"_parent\"><img src=\"https://colab.research.google.com/assets/colab-badge.svg\" alt=\"Open In Colab\"/></a>"
      ]
    },
    {
      "cell_type": "code",
      "metadata": {
        "id": "nFtWf94EC-Hl",
        "outputId": "5f867ad8-b43a-43dd-da19-589ad12057aa",
        "colab": {
          "base_uri": "https://localhost:8080/",
          "height": 34
        }
      },
      "source": [
        "x='a'\n",
        "\n",
        "def letra(x):\n",
        "  print(x,type(x))\n",
        "letra(x)"
      ],
      "execution_count": 11,
      "outputs": [
        {
          "output_type": "stream",
          "text": [
            "a <class 'str'>\n"
          ],
          "name": "stdout"
        }
      ]
    },
    {
      "cell_type": "code",
      "metadata": {
        "id": "tHK9unyEHw1d",
        "outputId": "c43aa9a4-2483-44ad-cf2d-c1e0bc17f89d",
        "colab": {
          "base_uri": "https://localhost:8080/",
          "height": 51
        }
      },
      "source": [
        "import math\n",
        "\n",
        "x_i=3\n",
        "x_f=4\n",
        "T_f=5\n",
        "T_i=2\n",
        " \n",
        "\n",
        "def funçao():\n",
        "  V_m=(x_f-x_i)/(T_f-T_i)\n",
        "  print(V_m)\n",
        "funçao()\n",
        "\n",
        "h=10\n",
        "g=9.8\n",
        "def queda():\n",
        "  V= math.sqrt(2*g*h)\n",
        "  print(V)\n",
        "queda()"
      ],
      "execution_count": 33,
      "outputs": [
        {
          "output_type": "stream",
          "text": [
            "0.3333333333333333\n",
            "14.0\n"
          ],
          "name": "stdout"
        }
      ]
    },
    {
      "cell_type": "code",
      "metadata": {
        "id": "1WQQisPoNmH4",
        "outputId": "70058729-8c2e-4cf6-aa01-05e772923ab2",
        "colab": {
          "base_uri": "https://localhost:8080/",
          "height": 51
        }
      },
      "source": [
        "import math\n",
        "\n",
        "A=5\n",
        "D=0.5\n",
        "\n",
        "def angulo(A,D):\n",
        "  W= math.atan(A/D)\n",
        "  print(math.degrees(W))\n",
        "angulo(A,D)\n"
      ],
      "execution_count": 51,
      "outputs": [
        {
          "output_type": "stream",
          "text": [
            "84.28940686250037\n",
            "84.28940686250037\n"
          ],
          "name": "stdout"
        }
      ]
    },
    {
      "cell_type": "code",
      "metadata": {
        "id": "h69VMF6yTO1x",
        "outputId": "53e1d44d-1890-442f-c166-3eb1467a2c14",
        "colab": {
          "base_uri": "https://localhost:8080/",
          "height": 102
        }
      },
      "source": [
        "M=1\n",
        "\n",
        "def metros():\n",
        "  m=1610*M\n",
        "  print(m)\n",
        "metros()\n",
        "\n",
        "\n",
        "m=1\n",
        "def milha():\n",
        "  M=m/1610\n",
        "  print(M)\n",
        "milha()\n",
        "\n",
        "h=1\n",
        "def segundo():\n",
        "  s=h/3600\n",
        "  print(s)\n",
        "segundo()\n",
        "\n",
        "s=1\n",
        "def hora():\n",
        "  h=s*3600\n",
        "  print(h)\n",
        "hora()\n",
        "\n",
        "\n",
        "def VelocidadeM():\n",
        "  h=1800*3600\n",
        "  km=(1610*4)/1000\n",
        "  V=km/h\n",
        "  print(V)\n",
        "VelocidadeM()"
      ],
      "execution_count": 60,
      "outputs": [
        {
          "output_type": "stream",
          "text": [
            "1610\n",
            "0.0006211180124223603\n",
            "0.0002777777777777778\n",
            "3600\n",
            "9.938271604938272e-07\n"
          ],
          "name": "stdout"
        }
      ]
    },
    {
      "cell_type": "code",
      "metadata": {
        "id": "Vatl7T4vQNxU",
        "outputId": "bf0a17cd-e327-4d14-8ee7-de39deec1c53",
        "colab": {
          "base_uri": "https://localhost:8080/",
          "height": 68
        }
      },
      "source": [
        "import math\n",
        "\n",
        "\n",
        "\n",
        "def IMC(A,M):\n",
        "  IMC=(M)/(A**2)\n",
        "  print(IMC)\n",
        "IMC(0.7,11)\n",
        "\n",
        "\n",
        "\n",
        "\n",
        "def Volume(R):\n",
        "  Volume=((4/3)*math.pi*R**3)\n",
        "  print(Volume)\n",
        "Volume(5)\n",
        "\n",
        " \n",
        "\n",
        "def Distancia(Lambda,D,d):\n",
        "  z=((Lambda)/(10**9))\n",
        "  Delta_y= ((z*D)/(d))\n",
        "  print(Delta_y)\n",
        "Distancia(632.8,1.98,0.00025)\n",
        "\n"
      ],
      "execution_count": 64,
      "outputs": [
        {
          "output_type": "stream",
          "text": [
            "22.44897959183674\n",
            "523.5987755982989\n",
            "0.005011776\n"
          ],
          "name": "stdout"
        }
      ]
    }
  ]
}