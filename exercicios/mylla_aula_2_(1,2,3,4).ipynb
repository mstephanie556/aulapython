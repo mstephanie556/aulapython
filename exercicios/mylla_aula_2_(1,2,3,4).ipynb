{
  "nbformat": 4,
  "nbformat_minor": 0,
  "metadata": {
    "colab": {
      "name": "Untitled2.ipynb",
      "provenance": [],
      "authorship_tag": "ABX9TyPHQicSDDtsaFskjQBPiB/P",
      "include_colab_link": true
    },
    "kernelspec": {
      "name": "python3",
      "display_name": "Python 3"
    }
  },
  "cells": [
    {
      "cell_type": "markdown",
      "metadata": {
        "id": "view-in-github",
        "colab_type": "text"
      },
      "source": [
        "<a href=\"https://colab.research.google.com/github/mstephanie556/aulapython/blob/master/exercicios/mylla_aula_2_(1%2C2%2C3%2C4).ipynb\" target=\"_parent\"><img src=\"https://colab.research.google.com/assets/colab-badge.svg\" alt=\"Open In Colab\"/></a>"
      ]
    },
    {
      "cell_type": "code",
      "metadata": {
        "id": "FQaUGwloUdU0",
        "colab_type": "code",
        "colab": {
          "base_uri": "https://localhost:8080/",
          "height": 102
        },
        "outputId": "9178fa51-6f96-4d12-d416-f43b64262e00"
      },
      "source": [
        "Largura=17\n",
        "Altura=12.0\n",
        "Delimitador= \".\"\n",
        "\n",
        "a=(Largura/2) #float\n",
        "print('a:',a)\n",
        "\n",
        "b=(Largura/2.0) #float\n",
        "print('b:',b)\n",
        "\n",
        "c=(Altura/3) #int\n",
        "print('c:',c)\n",
        "\n",
        "d=((Largura/2)+(Largura/2.0)*(5)) #int\n",
        "print('d:',d)\n",
        "\n",
        "e=Delimitador*5 #string\n",
        "print('e:',e)"
      ],
      "execution_count": 7,
      "outputs": [
        {
          "output_type": "stream",
          "text": [
            "a: 8.5\n",
            "b: 8.5\n",
            "c: 4.0\n",
            "d: 51.0\n",
            "e: .....\n"
          ],
          "name": "stdout"
        }
      ]
    },
    {
      "cell_type": "code",
      "metadata": {
        "id": "iT0P_c61ah8Q",
        "colab_type": "code",
        "colab": {
          "base_uri": "https://localhost:8080/",
          "height": 34
        },
        "outputId": "d3e84516-9d30-4514-9578-4c58af03011c"
      },
      "source": [
        "import math\n",
        "r=5 \n",
        "\n",
        "V_esf=((4/3)*math.pi*r**3)\n",
        "print('Vesf:',round(V_esf,4))\n"
      ],
      "execution_count": 16,
      "outputs": [
        {
          "output_type": "stream",
          "text": [
            "Vesf: 523.5988\n"
          ],
          "name": "stdout"
        }
      ]
    },
    {
      "cell_type": "code",
      "metadata": {
        "id": "kgY3cF-KfBHm",
        "colab_type": "code",
        "colab": {
          "base_uri": "https://localhost:8080/",
          "height": 85
        },
        "outputId": "0fb39087-04b0-4054-87b3-b71d72afd579"
      },
      "source": [
        "import math\n",
        "L=24.95\n",
        "\n",
        "X_t=L*60  #Valor de 60 livros\n",
        "print('Xt:',X_t)\n",
        "\n",
        "X_d=X_t*0.6  #Valor com desconto\n",
        "print('Xd:',X_d)\n",
        "\n",
        "F=3+59*0.75\n",
        "print('Frete:',F)\n",
        "\n",
        "T=(X_d+F)\n",
        "print('Total',round(T,4),'reais')"
      ],
      "execution_count": 28,
      "outputs": [
        {
          "output_type": "stream",
          "text": [
            "Xt: 1497.0\n",
            "Xd: 898.1999999999999\n",
            "Frete: 47.25\n",
            "Total 945.45 reais\n"
          ],
          "name": "stdout"
        }
      ]
    },
    {
      "cell_type": "code",
      "metadata": {
        "id": "wnCLz8K1hKZh",
        "colab_type": "code",
        "colab": {
          "base_uri": "https://localhost:8080/",
          "height": 34
        },
        "outputId": "7d2190e5-fb9a-45e6-fccf-a4d051b94077"
      },
      "source": [
        "Lambda=632.8 #nm\n",
        "D= 1.98 #m\n",
        "d=0.00025 #m\n",
        "\n",
        "z=((Lambda)/(10**9))\n",
        "Delta_y= ((z*D)/(d))\n",
        "print('Delta_y:',Delta_y)"
      ],
      "execution_count": 37,
      "outputs": [
        {
          "output_type": "stream",
          "text": [
            "Delta_y: 0.005011776\n"
          ],
          "name": "stdout"
        }
      ]
    }
  ]
}